{
 "cells": [
  {
   "cell_type": "markdown",
   "source": [
    "#A tuple that converts your name 4 times and add +*+* at end."
   ],
   "metadata": {
    "collapsed": false,
    "pycharm": {
     "name": "#%% md\n"
    }
   }
  },
  {
   "cell_type": "code",
   "execution_count": 2,
   "outputs": [
    {
     "name": "stdout",
     "output_type": "stream",
     "text": [
      "(('AliReza Ahmadi', 'Seyyed Mohammad Hadi IzadKhah', 'AliReza Ahmadi', 'Seyyed Mohammad Hadi IzadKhah', 'AliReza Ahmadi', 'Seyyed Mohammad Hadi IzadKhah', 'AliReza Ahmadi', 'Seyyed Mohammad Hadi IzadKhah'), '+*+*')\n"
     ]
    }
   ],
   "source": [
    "my_tuple = (('AliReza Ahmadi' , 'Seyyed Mohammad Hadi IzadKhah' , ) *4 , '+*+*')\n",
    "print(my_tuple)"
   ],
   "metadata": {
    "collapsed": false,
    "pycharm": {
     "name": "#%%\n"
    }
   }
  },
  {
   "cell_type": "markdown",
   "source": [
    "#A tuple that has some values with slices operations."
   ],
   "metadata": {
    "collapsed": false,
    "pycharm": {
     "name": "#%% md\n"
    }
   }
  },
  {
   "cell_type": "code",
   "execution_count": 11,
   "outputs": [
    {
     "name": "stdout",
     "output_type": "stream",
     "text": [
      "Ahmadi\n",
      "Khah\n",
      "(365, (20, 18, 19))\n",
      "(18, 19)\n",
      "[34, 65]\n"
     ]
    }
   ],
   "source": [
    "main_tuple = ('Ahmadi' , 'IzadKhah' , 365 , (20 , 18 , 19) , [34 , 65 , 86])\n",
    "print(main_tuple[0])\n",
    "print(main_tuple[1][4:8])\n",
    "print(main_tuple[2:4])\n",
    "print(main_tuple[3][1:3])\n",
    "print(main_tuple[4][0:-1])"
   ],
   "metadata": {
    "collapsed": false,
    "pycharm": {
     "name": "#%%\n"
    }
   }
  }
 ],
 "metadata": {
  "kernelspec": {
   "display_name": "Python 3",
   "language": "python",
   "name": "python3"
  },
  "language_info": {
   "codemirror_mode": {
    "name": "ipython",
    "version": 2
   },
   "file_extension": ".py",
   "mimetype": "text/x-python",
   "name": "python",
   "nbconvert_exporter": "python",
   "pygments_lexer": "ipython2",
   "version": "2.7.6"
  }
 },
 "nbformat": 4,
 "nbformat_minor": 0
}