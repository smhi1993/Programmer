{
 "cells": [
  {
   "cell_type": "markdown",
   "source": [
    "#Program that has 4 Nested Lists and tests all of methods with desired Values and Prints the Result."
   ],
   "metadata": {
    "collapsed": false,
    "pycharm": {
     "name": "#%% md\n"
    }
   }
  },
  {
   "cell_type": "code",
   "execution_count": 41,
   "outputs": [
    {
     "name": "stdout",
     "output_type": "stream",
     "text": [
      "[[12], [], [], []]\n",
      "[[12, 89, 73, 27, 31], [], [], []]\n",
      "[[12, 89, 73, 27, 31], [43, 89], [], []]\n",
      "[[12, 89, 73, 27, 31], [43, 89], [92], []]\n",
      "[[12, 89, 73, 27, 31], [43, 89], [92], [92, 34, 63, 93]]\n",
      "[[12, 89, 73, 27, 31], [43, 89], [92], [34, 63, 92, 93]]\n",
      "[[12, 89, 73, 27, 31], [89, 43], [92], [34, 63, 92, 93]]\n",
      "[[12, 89, 73, 27, 31], [89, 43, 12, 89, 73, 27, 31], [92], [34, 63, 92, 93]]\n",
      "[[12, 89, 73, 27, 31], [89, 12, 89, 73, 27, 31], [92], [34, 63, 92, 93]]\n",
      "[[12, 89, 73, 27, 31], [89, 12, 89, 73, 27], [92], [34, 63, 92, 93]]\n",
      "[[12, 89, 73, 27, 31, 36, 41], [89, 12, 89, 73, 27], [92], [34, 63, 92, 93]]\n",
      "[[12, 89, 73, 27, 31, 36, 41], [89, 12, 89, 73, 27], [92, 12, 89, 73, 27, 31, 36, 41, 89, 12, 89, 73, 27, 34, 63, 92, 93], [34, 63, 92, 93]]\n",
      "[[12, 89, 73, 27, 31, 36, 41], [34, 63, 92, 93], [89, 12, 89, 73, 27], [92, 12, 89, 73, 27, 31, 36, 41, 89, 12, 89, 73, 27, 34, 63, 92, 93]]\n",
      "[[12, 89, 73, 27, 31, 36, 41], [34, 63, 92, 93], [], [92, 12, 89, 73, 27, 31, 36, 41, 89, 12, 89, 73, 27, 34, 63, 92, 93]]\n",
      "[[12, 89, 73, 27, 31, 36, 41], [34, 63, 92, 93], [12, 27, 31, 36, 41, 73, 89], [92, 12, 89, 73, 27, 31, 36, 41, 89, 12, 89, 73, 27, 34, 63, 92, 93]]\n"
     ]
    }
   ],
   "source": [
    "myList = [[] , [] , [] , [] ]\n",
    "myList[0].append(12)\n",
    "print(myList)\n",
    "myList[0] += [89 , 73 , 27 , 31]\n",
    "print(myList)\n",
    "myList[1].extend([43 , 89])\n",
    "print(myList)\n",
    "myList[2].insert(0 , 92 )\n",
    "print(myList)\n",
    "myList[3] = myList[2].copy() + [34 , 63 , 93]\n",
    "print(myList)\n",
    "myList[3].sort()\n",
    "print(myList)\n",
    "myList[1].reverse()\n",
    "print(myList)\n",
    "myList[1] += myList[0]\n",
    "print(myList)\n",
    "myList[1].remove(43)\n",
    "print(myList)\n",
    "a = myList[1].pop()\n",
    "print(myList)\n",
    "myList[0].extend([(a + 5) , (a + 10)])\n",
    "print(myList)\n",
    "myList[2] += myList[0] + myList[1] + myList[3]\n",
    "print(myList)\n",
    "myList.sort()\n",
    "print(myList)\n",
    "myList[2].clear()\n",
    "print(myList)\n",
    "myList[2].extend(myList[0])\n",
    "myList[2].sort()\n",
    "print(myList)"
   ],
   "metadata": {
    "collapsed": false,
    "pycharm": {
     "name": "#%%\n"
    }
   }
  },
  {
   "cell_type": "markdown",
   "source": [
    "#Program that gets 10 numbers from the input and show them in a list."
   ],
   "metadata": {
    "collapsed": false
   }
  },
  {
   "cell_type": "code",
   "execution_count": 42,
   "outputs": [
    {
     "name": "stdout",
     "output_type": "stream",
     "text": [
      "Item List is:  ['12', '34', '56', '48', '97', '34', '675', '45', '345', '217']\n"
     ]
    }
   ],
   "source": [
    "a = input(\"Enter a number:\\n\")\n",
    "b = input(\"Enter a number:\\n\")\n",
    "c = input(\"Enter a number:\\n\")\n",
    "d = input(\"Enter a number:\\n\")\n",
    "e = input(\"Enter a number:\\n\")\n",
    "f = input(\"Enter a number:\\n\")\n",
    "g = input(\"Enter a number:\\n\")\n",
    "h = input(\"Enter a number:\\n\")\n",
    "i = input(\"Enter a number:\\n\")\n",
    "j = input(\"Enter a number:\\n\")\n",
    "itemList = [a , b , c , d , e , f , g , h , i , j]\n",
    "print('Item List is: ' , itemList)"
   ],
   "metadata": {
    "collapsed": false,
    "pycharm": {
     "name": "#%%\n"
    }
   }
  }
 ],
 "metadata": {
  "kernelspec": {
   "display_name": "Python 3",
   "language": "python",
   "name": "python3"
  },
  "language_info": {
   "codemirror_mode": {
    "name": "ipython",
    "version": 2
   },
   "file_extension": ".py",
   "mimetype": "text/x-python",
   "name": "python",
   "nbconvert_exporter": "python",
   "pygments_lexer": "ipython2",
   "version": "2.7.6"
  }
 },
 "nbformat": 4,
 "nbformat_minor": 0
}