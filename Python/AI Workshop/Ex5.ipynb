{
 "cells": [
  {
   "cell_type": "markdown",
   "source": [
    "#Opreation on a dictionary with built-in functions."
   ],
   "metadata": {
    "collapsed": false,
    "pycharm": {
     "name": "#%% md\n"
    }
   }
  },
  {
   "cell_type": "code",
   "execution_count": 27,
   "outputs": [
    {
     "name": "stdout",
     "output_type": "stream",
     "text": [
      "My Dictionary :  {'a': 'AliReza', 'b': 'Seyyed Mohammad Hadi', 'c': 365, 'd': (20, 18, 17.5), 'e': [100, 80, 40], 'f': 120.0, 'g': (95+45j)}\n",
      "My Dictionary :  {'a': 'AliReza Ahmadi', 'b': 'Seyyed Mohammad Hadi', 'c': 365, 'd': (20, 18, 17.5), 'e': [100, 80, 40], 'f': 120.0, 'g': (95+45j)}\n",
      "Seyyed Mohammad Hadi IzadKhah\n",
      "My Dictionary :  {'a': 'AliReza Ahmadi', 'c': 365, 'd': (20, 18, 17.5), 'e': [100, 80, 40], 'f': 120.0, 'g': (95+45j)}\n",
      "500\n",
      "My Dictionary :  {'a': 'AliReza Ahmadi', 'c': 500, 'd': (20, 18, 17.5), 'e': [100, 80, 40], 'f': 120.0, 'g': (95+45j)}\n",
      "18\n",
      "[100, 80, 40]\n",
      "My Dictionary :  {'a': 'AliReza Ahmadi', 'c': 500, 'd': (20, 18, 17.5), 'f': 120.0, 'g': (95+45j)}\n",
      "(95+45j) <class 'complex'>\n",
      "('g', (95+45j))\n",
      "My Dictionary :  {'a': 'AliReza Ahmadi', 'c': 500, 'd': (20, 18, 17.5), 'f': 120.0}\n",
      "True\n",
      "True\n",
      "False\n",
      "True\n",
      "True\n",
      "4\n",
      "My Dictionary :  {'a': 'AliReza Ahmadi', 'c': 500, 'd': (20, 18, 17.5), 'f': 120.0}\n",
      "My Sorted Dictionary :  ['a', 'c', 'd', 'f']\n",
      "False\n"
     ]
    }
   ],
   "source": [
    "my_dict = {'a' : 'AliReza' , 'b' : 'Seyyed Mohammad Hadi' , 'c' : 365 , 'd' : (20 , 18 , 17.5) , 'e' : [100 , 80 , 40] , 'f' : 120.0 , 'g' : 95 + 45j}\n",
    "print('My Dictionary : ' , my_dict)\n",
    "my_dict['a'] += ' Ahmadi'\n",
    "print('My Dictionary : ' , my_dict)\n",
    "my_name = my_dict.pop('b')\n",
    "my_name += ' IzadKhah'\n",
    "print(my_name)\n",
    "print('My Dictionary : ' , my_dict)\n",
    "my_dict['c'] += 135\n",
    "print(my_dict['c'])\n",
    "print('My Dictionary : ' , my_dict)\n",
    "print(my_dict['d'][1])\n",
    "print(my_dict.get('e'))\n",
    "del(my_dict['e'])\n",
    "print('My Dictionary : ' , my_dict)\n",
    "print(my_dict['g'] , type(my_dict['g']))\n",
    "comp = my_dict.popitem()\n",
    "print(comp)\n",
    "print('My Dictionary : ' , my_dict)\n",
    "print('a' in my_dict)\n",
    "print('e' not in my_dict)\n",
    "print('g' in my_dict)\n",
    "print(all(my_dict))\n",
    "print(any(my_dict))\n",
    "print(len(my_dict))\n",
    "my_sorted_dict = sorted(my_dict)\n",
    "print('My Dictionary : ' , my_dict)\n",
    "print('My Sorted Dictionary : ' , my_sorted_dict)\n",
    "print(my_dict == my_sorted_dict)"
   ],
   "metadata": {
    "collapsed": false,
    "pycharm": {
     "name": "#%%\n"
    }
   }
  }
 ],
 "metadata": {
  "kernelspec": {
   "display_name": "Python 3",
   "language": "python",
   "name": "python3"
  },
  "language_info": {
   "codemirror_mode": {
    "name": "ipython",
    "version": 2
   },
   "file_extension": ".py",
   "mimetype": "text/x-python",
   "name": "python",
   "nbconvert_exporter": "python",
   "pygments_lexer": "ipython2",
   "version": "2.7.6"
  }
 },
 "nbformat": 4,
 "nbformat_minor": 0
}