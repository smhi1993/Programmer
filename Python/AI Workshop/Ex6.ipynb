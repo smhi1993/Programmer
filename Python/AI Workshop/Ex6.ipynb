{
 "cells": [
  {
   "cell_type": "markdown",
   "source": [
    "#Program that gets a number and prints Odd if the number is odd, else prints even."
   ],
   "metadata": {
    "collapsed": false,
    "pycharm": {
     "name": "#%% md\n"
    }
   }
  },
  {
   "cell_type": "code",
   "execution_count": 3,
   "outputs": [
    {
     "name": "stdout",
     "output_type": "stream",
     "text": [
      "This number is Even!\n"
     ]
    }
   ],
   "source": [
    "a = input('Enter a Number:\\n')\n",
    "a = int(a)\n",
    "if a % 2 == 1:\n",
    "    print('This number is Odd!')\n",
    "else:\n",
    "    print('This number is Even!')"
   ],
   "metadata": {
    "collapsed": false,
    "pycharm": {
     "name": "#%%\n"
    }
   }
  },
  {
   "cell_type": "markdown",
   "source": [
    "#Program that gets Your first and last name and prints Your firstname is True, if your firstname is not True but lastname is True, prints Your lastname is True, else prints There isn't anybody with this information."
   ],
   "metadata": {
    "collapsed": false,
    "pycharm": {
     "name": "#%% md\n"
    }
   }
  },
  {
   "cell_type": "code",
   "execution_count": 5,
   "outputs": [
    {
     "name": "stdout",
     "output_type": "stream",
     "text": [
      "There isn't anybody with this information!\n"
     ]
    }
   ],
   "source": [
    "firstname = input('Enter your firstname:\\n')\n",
    "lastname = input('Enter your lastname:\\n')\n",
    "if not firstname == '' and not lastname == '':\n",
    "    print('Your name is True!')\n",
    "elif not lastname == '':\n",
    "    print('Your lastname is True!')\n",
    "else:\n",
    "    print('There isn\\'t anybody with this information!')"
   ],
   "metadata": {
    "collapsed": false,
    "pycharm": {
     "name": "#%%\n"
    }
   }
  }
 ],
 "metadata": {
  "kernelspec": {
   "display_name": "Python 3",
   "language": "python",
   "name": "python3"
  },
  "language_info": {
   "codemirror_mode": {
    "name": "ipython",
    "version": 2
   },
   "file_extension": ".py",
   "mimetype": "text/x-python",
   "name": "python",
   "nbconvert_exporter": "python",
   "pygments_lexer": "ipython2",
   "version": "2.7.6"
  }
 },
 "nbformat": 4,
 "nbformat_minor": 0
}