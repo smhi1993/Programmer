{
 "cells": [
  {
   "cell_type": "markdown",
   "source": [
    "#Program that results Symmetric difference of two sets."
   ],
   "metadata": {
    "collapsed": false,
    "pycharm": {
     "name": "#%% md\n"
    }
   }
  },
  {
   "cell_type": "code",
   "execution_count": 2,
   "outputs": [
    {
     "name": "stdout",
     "output_type": "stream",
     "text": [
      "a ∆ b =  {(54, 34, 89, 43), 'Hello, World!', 'Good Night', 'Good Morning', (34, 45, 64, 45), 'Well Done!', 89.34}\n"
     ]
    }
   ],
   "source": [
    "a = {3 , 7 , 10 , 45.3 , 89.34 , 'Hello, World!' , (34 , 45 , 64 , 45) , 'Good Morning'}\n",
    "b = {3 , 7 , 10 , 45.3 , 'Good Night' , (54 , 34 , 89 , 43) , 'Well Done!'}\n",
    "c = ((a | b) - (a & b))\n",
    "print('a ∆ b = ' , c)"
   ],
   "metadata": {
    "collapsed": false,
    "pycharm": {
     "name": "#%%\n"
    }
   }
  }
 ],
 "metadata": {
  "kernelspec": {
   "display_name": "Python 3",
   "language": "python",
   "name": "python3"
  },
  "language_info": {
   "codemirror_mode": {
    "name": "ipython",
    "version": 2
   },
   "file_extension": ".py",
   "mimetype": "text/x-python",
   "name": "python",
   "nbconvert_exporter": "python",
   "pygments_lexer": "ipython2",
   "version": "2.7.6"
  }
 },
 "nbformat": 4,
 "nbformat_minor": 0
}