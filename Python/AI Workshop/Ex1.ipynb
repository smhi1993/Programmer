{
 "cells": [
  {
   "cell_type": "markdown",
   "source": [
    "#Program that Add 3 numbers together and prints the Total and Your Name."
   ],
   "metadata": {
    "collapsed": false,
    "pycharm": {
     "name": "#%% md\n"
    }
   }
  },
  {
   "cell_type": "code",
   "execution_count": 4,
   "outputs": [
    {
     "name": "stdout",
     "output_type": "stream",
     "text": [
      "The Total of Numbers a , b , c is  12\n",
      "My Name is  Seyyed Mohammad Hadi IzadKhah\n"
     ]
    }
   ],
   "source": [
    "a = 3\n",
    "b = 4\n",
    "c = 5\n",
    "d = a + b + c\n",
    "e = 'Seyyed Mohammad Hadi IzadKhah'\n",
    "print('The Total of Numbers a , b , c is ', d)\n",
    "print('My Name is ' , e)"
   ],
   "metadata": {
    "collapsed": false,
    "pycharm": {
     "name": "#%%\n"
    }
   }
  },
  {
   "cell_type": "markdown",
   "source": [
    "#Program that gets Months of Summer and Winter and prints them all."
   ],
   "metadata": {
    "collapsed": false,
    "pycharm": {
     "name": "#%% md\n"
    }
   }
  },
  {
   "cell_type": "code",
   "execution_count": 6,
   "outputs": [
    {
     "name": "stdout",
     "output_type": "stream",
     "text": [
      "Tir Mordad Shahrivar Dey Bahman Esfand\n"
     ]
    }
   ],
   "source": [
    "a = input(\"Summer's First Month:\\n\")\n",
    "b = input(\"Summer's Second Month:\\n\")\n",
    "c = input(\"Summer's Third Month:\\n\")\n",
    "d = input(\"Winter's First Month\")\n",
    "e = input(\"Winter's Second Month:\\n\")\n",
    "f = input(\"Winter's Third Month:\\n\")\n",
    "print(a , b , c , d , e , f)"
   ],
   "metadata": {
    "collapsed": false,
    "pycharm": {
     "name": "#%%\n"
    }
   }
  },
  {
   "cell_type": "markdown",
   "source": [
    "#Program that gets Your Personal Information and print them in addition with Your Student Number."
   ],
   "metadata": {
    "collapsed": false,
    "pycharm": {
     "name": "#%% md\n"
    }
   }
  },
  {
   "cell_type": "code",
   "execution_count": 5,
   "outputs": [
    {
     "name": "stdout",
     "output_type": "stream",
     "text": [
      "Seyyed Mohammad Hadi IzadKhah 0371012341 09359267246 400411106\n"
     ]
    }
   ],
   "source": [
    "a = input(\"Enter Your Name:\\n\")\n",
    "b = input(\"Enter Your ID Number:\\n\")\n",
    "c = input(\"Enter Your Cell Phone Number:\\n\")\n",
    "stdNum = \"400411106\"\n",
    "print(a , b , c , stdNum)"
   ],
   "metadata": {
    "collapsed": false,
    "pycharm": {
     "name": "#%%\n"
    }
   }
  }
 ],
 "metadata": {
  "kernelspec": {
   "display_name": "Python 3",
   "language": "python",
   "name": "python3"
  },
  "language_info": {
   "codemirror_mode": {
    "name": "ipython",
    "version": 2
   },
   "file_extension": ".py",
   "mimetype": "text/x-python",
   "name": "python",
   "nbconvert_exporter": "python",
   "pygments_lexer": "ipython2",
   "version": "2.7.6"
  }
 },
 "nbformat": 4,
 "nbformat_minor": 0
}